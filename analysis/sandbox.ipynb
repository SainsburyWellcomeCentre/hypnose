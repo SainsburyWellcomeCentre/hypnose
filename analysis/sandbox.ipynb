{
 "cells": [
  {
   "cell_type": "code",
   "execution_count": 9,
   "metadata": {},
   "outputs": [],
   "source": [
    "import numpy as np\n",
    "from pathlib import Path\n",
    "import utils as utils\n",
    "import harp\n",
    "import matplotlib.pyplot as plt"
   ]
  },
  {
   "cell_type": "code",
   "execution_count": 10,
   "metadata": {},
   "outputs": [],
   "source": [
    "root = Path('C:/Users/neurogears/source/repos/swc/hypnose/example_data/2025-01-21T14-24-20/2025-01-21T14-24-20')"
   ]
  },
  {
   "cell_type": "code",
   "execution_count": 24,
   "metadata": {},
   "outputs": [
    {
     "name": "stdout",
     "output_type": "stream",
     "text": [
      "[DotMap(rewardCondition1=[[{'command': 'OdorA', 'rewarded': True}]], rewardCondition2=[[{'command': 'OdorE', 'rewarded': True}]], enableTrialIndicator=True, presentationTime=0.8, interCommand='Purge', interCommandTime=0.2, repeatCount=20, maximumTime=1.0, responseTime=99999.0, resetOnReward=True, interTrialInterval=0.0, name='OdourDiscrimination', defaultCommand='Default', enableRewardLocationIndicator=True)]\n"
     ]
    }
   ],
   "source": [
    "metadata_reader = utils.SessionData()\n",
    "session_settings = utils.load_json(metadata_reader, root/\"SessionSettings\")\n",
    "\n",
    "print(session_settings.iloc[0]['metadata'].sequences)"
   ]
  },
  {
   "cell_type": "code",
   "execution_count": 41,
   "metadata": {},
   "outputs": [
    {
     "name": "stdout",
     "output_type": "stream",
     "text": [
      "                               EndValve0  EndValve1  ValveDummy\n",
      "Time                                                           \n",
      "1904-01-01 21:36:55.789504000      False      False       False\n",
      "1904-01-01 22:16:11.496544000      False       True       False\n",
      "1904-01-01 22:16:12.146528000      False      False       False\n",
      "1904-01-02 08:00:19.006496000      False       True       False\n",
      "1904-01-02 08:00:19.454496000      False      False       False\n",
      "1904-01-02 09:33:39.283488000       True      False       False\n",
      "1904-01-02 09:33:40.094496000       True       True       False\n",
      "1904-01-02 09:33:40.297504000      False      False       False\n",
      "1904-01-02 10:04:06.716480000       True      False       False\n",
      "1904-01-02 10:04:07.217504000      False      False       False\n",
      "1904-01-02 10:07:12.550496000       True      False       False\n",
      "1904-01-02 10:07:13.064479999      False      False       False\n",
      "1904-01-02 10:12:14.756480000      False       True       False\n",
      "1904-01-02 10:12:15.570496000       True       True       False\n",
      "1904-01-02 10:12:15.756480000      False      False       False\n",
      "1904-01-02 10:19:08.912480000      False       True       False\n",
      "1904-01-02 10:19:09.724480000       True       True       False\n",
      "1904-01-02 10:19:09.864480000      False      False       False\n",
      "1904-01-02 10:31:40.773504000      False       True       False\n",
      "1904-01-02 10:31:41.269504000      False      False       False\n",
      "1904-01-02 10:37:11.407488000       True      False       False\n",
      "1904-01-02 10:37:11.688480000      False      False       False\n",
      "1904-01-02 10:45:33.280512000      False       True       False\n",
      "1904-01-02 10:45:34.093504000       True       True       False\n",
      "1904-01-02 10:45:34.281504000      False      False       False\n",
      "1904-01-02 10:47:48.702496000      False       True       False\n",
      "1904-01-02 10:47:48.999488000      False      False       False\n",
      "1904-01-02 10:54:15.261504000       True      False       False\n",
      "1904-01-02 10:54:16.072480000       True       True       False\n",
      "1904-01-02 10:54:16.270496000      False      False       False\n",
      "1904-01-02 11:43:26.347488000      False       True       False\n",
      "1904-01-02 11:43:26.896480000      False      False       False\n",
      "1904-01-02 14:27:05.536479999       True      False       False\n",
      "1904-01-02 14:27:06.255488000      False      False       False\n",
      "1904-01-02 14:31:13.295488000       True      False       False\n",
      "1904-01-02 14:31:14.075488000      False      False       False\n",
      "1904-01-02 14:32:48.904480000      False       True       False\n",
      "1904-01-02 14:32:49.296480000      False      False       False\n"
     ]
    },
    {
     "data": {
      "text/plain": [
       "[<matplotlib.lines.Line2D at 0x14e46deed10>]"
      ]
     },
     "execution_count": 41,
     "metadata": {},
     "output_type": "execute_result"
    },
    {
     "data": {
      "image/png": "[encoded data removed]",
      "text/plain": [
       "<Figure size 640x480 with 1 Axes>"
      ]
     },
     "metadata": {},
     "output_type": "display_data"
    }
   ],
   "source": [
    "behavior_reader = harp.create_reader('device_schemas/behavior.yml', epoch=harp.REFERENCE_EPOCH)\n",
    "olfactometer_reader = harp.create_reader('device_schemas/olfactometer.yml', epoch=harp.REFERENCE_EPOCH)\n",
    "\n",
    "digital_input_data = utils.load(behavior_reader.DigitalInputState, root/\"Behavior\")\n",
    "olfactometer_valves_0 = utils.load(olfactometer_reader.OdorValveState, root/\"Olfactometer0\")\n",
    "olfactometer_valves_1 = utils.load(olfactometer_reader.OdorValveState, root/\"Olfactometer1\")\n",
    "olfactometer_end_0 = utils.load(olfactometer_reader.EndValveState, root/\"Olfactometer0\")\n",
    "\n",
    "print(olfactometer_end_0)\n",
    "\n",
    "plt.figure()\n",
    "plt.xticks(rotation=90)\n",
    "plt.step(olfactometer_valves_0.index, olfactometer_valves_0['Valve0'] * 1)\n",
    "plt.step(olfactometer_end_0.index, olfactometer_valves_0['Valve0'] * 1)\n",
    "# plt.step(olfactometer_valves_0.index, olfactometer_valves_0['Valve1'] * 1 - 1.1)\n",
    "# plt.step(olfactometer_valves_0.index, olfactometer_valves_0['Valve2'] * 1 - 2.2)\n",
    "# plt.step(olfactometer_valves_0.index, olfactometer_valves_0['Valve3'] * 1 - 3.3)\n",
    "# plt.step(olfactometer_valves_1.index, olfactometer_valves_1['Valve0'] * 1 - 4.4)\n",
    "# plt.step(olfactometer_valves_1.index, olfactometer_valves_1['Valve1'] * 1 - 5.5)\n",
    "# plt.step(olfactometer_valves_1.index, olfactometer_valves_1['Valve2'] * 1 - 6.6)\n",
    "# plt.step(olfactometer_valves_1.index, olfactometer_valves_1['Valve3'] * 1 - 7.7)"
   ]
  },
  {
   "cell_type": "code",
   "execution_count": null,
   "metadata": {},
   "outputs": [],
   "source": []
  }
 ],
 "metadata": {
  "kernelspec": {
   "display_name": "Python 3",
   "language": "python",
   "name": "python3"
  },
  "language_info": {
   "codemirror_mode": {
    "name": "ipython",
    "version": 3
   },
   "file_extension": ".py",
   "mimetype": "text/x-python",
   "name": "python",
   "nbconvert_exporter": "python",
   "pygments_lexer": "ipython3",
   "version": "3.11.11"
  }
 },
 "nbformat": 4,
 "nbformat_minor": 2
}

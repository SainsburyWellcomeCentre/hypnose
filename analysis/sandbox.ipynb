{
 "cells": [
  {
   "cell_type": "code",
   "execution_count": 12,
   "metadata": {},
   "outputs": [],
   "source": [
    "# %matplotlib ipympl\n",
    "import numpy as np\n",
    "from pathlib import Path\n",
    "import utils as utils\n",
    "import harp\n",
    "import pandas as pd\n",
    "import matplotlib.pyplot as plt\n",
    "import aeon.io.video as video"
   ]
  },
  {
   "cell_type": "code",
   "execution_count": 13,
   "metadata": {},
   "outputs": [],
   "source": [
    "# root = Path('C:/Users/neurogears/source/repos/swc/hypnose/example_data/2025-01-21T14-24-20/2025-01-21T14-24-20')\n",
    "# root = Path('C:/Users/neurogears/source/repos/swc/hypnose/example_data/2025-01-24T15-37-50')\n",
    "root = Path('C:/Users/neurogears/source/repos/swc/hypnose/example_data/2025-01-28T11-50-38')"
   ]
  },
  {
   "cell_type": "code",
   "execution_count": 14,
   "metadata": {},
   "outputs": [
    {
     "name": "stdout",
     "output_type": "stream",
     "text": [
      "[DotMap(rewardCondition1=[[{'command': 'OdorA', 'rewarded': True}]], rewardCondition2=[[{'command': 'OdorE', 'rewarded': True}]], enableTrialIndicator=True, presentationTime=0.8, interCommand='Purge', interCommandTime=0.2, repeatCount=20, maximumTime=1.0, responseTime=10.0, resetOnReward=True, interTrialInterval=0.0, name='OdourDiscrimination', defaultCommand='Default', enableRewardLocationIndicator=True)]\n"
     ]
    }
   ],
   "source": [
    "metadata_reader = utils.SessionData()\n",
    "session_settings = utils.load_json(metadata_reader, root/\"SessionSettings\")\n",
    "\n",
    "print(session_settings.iloc[0]['metadata'].sequences)"
   ]
  },
  {
   "cell_type": "code",
   "execution_count": 16,
   "metadata": {},
   "outputs": [
    {
     "name": "stdout",
     "output_type": "stream",
     "text": [
      "                            hw_counter   hw_timestamp  _frame  \\\n",
      "Time                                                            \n",
      "1904-01-01 00:24:15.955488       22268  1471019084424       0   \n",
      "1904-01-01 00:24:18.766592       22269  1471052414896       1   \n",
      "1904-01-01 00:24:18.783232       22270  1471085746920       2   \n",
      "1904-01-01 00:24:18.799904       22271  1471119079536       3   \n",
      "1904-01-01 00:24:18.816544       22272  1471152410408       4   \n",
      "...                                ...            ...     ...   \n",
      "1904-01-01 00:24:35.099296       23249  1503717474896     981   \n",
      "1904-01-01 00:24:35.115968       23250  1503750805952     982   \n",
      "1904-01-01 00:24:35.132640       23251  1503784137936     983   \n",
      "1904-01-01 00:24:35.149312       23252  1503817469640     984   \n",
      "1904-01-01 00:24:35.165952       23253  1503850800952     985   \n",
      "\n",
      "                                                                        _path  \\\n",
      "Time                                                                            \n",
      "1904-01-01 00:24:15.955488  C:\\Users\\neurogears\\source\\repos\\swc\\hypnose\\e...   \n",
      "1904-01-01 00:24:18.766592  C:\\Users\\neurogears\\source\\repos\\swc\\hypnose\\e...   \n",
      "1904-01-01 00:24:18.783232  C:\\Users\\neurogears\\source\\repos\\swc\\hypnose\\e...   \n",
      "1904-01-01 00:24:18.799904  C:\\Users\\neurogears\\source\\repos\\swc\\hypnose\\e...   \n",
      "1904-01-01 00:24:18.816544  C:\\Users\\neurogears\\source\\repos\\swc\\hypnose\\e...   \n",
      "...                                                                       ...   \n",
      "1904-01-01 00:24:35.099296  C:\\Users\\neurogears\\source\\repos\\swc\\hypnose\\e...   \n",
      "1904-01-01 00:24:35.115968  C:\\Users\\neurogears\\source\\repos\\swc\\hypnose\\e...   \n",
      "1904-01-01 00:24:35.132640  C:\\Users\\neurogears\\source\\repos\\swc\\hypnose\\e...   \n",
      "1904-01-01 00:24:35.149312  C:\\Users\\neurogears\\source\\repos\\swc\\hypnose\\e...   \n",
      "1904-01-01 00:24:35.165952  C:\\Users\\neurogears\\source\\repos\\swc\\hypnose\\e...   \n",
      "\n",
      "                                         _epoch  \n",
      "Time                                             \n",
      "1904-01-01 00:24:15.955488  2025-01-28T11-50-38  \n",
      "1904-01-01 00:24:18.766592  2025-01-28T11-50-38  \n",
      "1904-01-01 00:24:18.783232  2025-01-28T11-50-38  \n",
      "1904-01-01 00:24:18.799904  2025-01-28T11-50-38  \n",
      "1904-01-01 00:24:18.816544  2025-01-28T11-50-38  \n",
      "...                                         ...  \n",
      "1904-01-01 00:24:35.099296  2025-01-28T11-50-38  \n",
      "1904-01-01 00:24:35.115968  2025-01-28T11-50-38  \n",
      "1904-01-01 00:24:35.132640  2025-01-28T11-50-38  \n",
      "1904-01-01 00:24:35.149312  2025-01-28T11-50-38  \n",
      "1904-01-01 00:24:35.165952  2025-01-28T11-50-38  \n",
      "\n",
      "[986 rows x 5 columns]\n",
      "                            DIPort0  DIPort1  DIPort2    DI3\n",
      "Time                                                        \n",
      "1904-01-01 00:24:24.306688     True    False    False  False\n",
      "1904-01-01 00:24:24.582048    False    False    False  False\n",
      "1904-01-01 00:24:28.548224    False    False     True  False\n",
      "1904-01-01 00:24:28.724032    False    False    False  False\n",
      "1904-01-01 00:24:32.593568     True    False    False  False\n",
      "1904-01-01 00:24:32.730944    False    False    False  False\n",
      "1904-01-01 00:24:35.709408    False     True    False  False\n",
      "1904-01-01 00:24:35.871072    False    False    False  False\n",
      "1904-01-01 00:24:38.997792     True    False    False  False\n",
      "1904-01-01 00:24:39.197536    False    False    False  False\n",
      "1904-01-01 00:24:42.510976    False    False     True  False\n",
      "1904-01-01 00:24:42.701440    False    False    False  False\n",
      "(1, 200)\n"
     ]
    },
    {
     "data": {
      "image/png": "[encoded data removed]",
      "text/plain": [
       "<Figure size 640x480 with 1 Axes>"
      ]
     },
     "metadata": {},
     "output_type": "display_data"
    }
   ],
   "source": [
    "behavior_reader = harp.create_reader('device_schemas/behavior.yml', epoch=harp.REFERENCE_EPOCH)\n",
    "olfactometer_reader = harp.create_reader('device_schemas/olfactometer.yml', epoch=harp.REFERENCE_EPOCH)\n",
    "video_reader = utils.Video()\n",
    "video_data = utils.load_video(video_reader, root/\"VideoData\")\n",
    "print(video_data)\n",
    "\n",
    "digital_input_data = utils.load(behavior_reader.DigitalInputState, root/\"Behavior\")\n",
    "output_set = utils.load(behavior_reader.OutputSet, root/\"Behavior\")\n",
    "olfactometer_valves_0 = utils.load(olfactometer_reader.OdorValveState, root/\"Olfactometer0\")\n",
    "olfactometer_valves_1 = utils.load(olfactometer_reader.OdorValveState, root/\"Olfactometer1\")\n",
    "olfactometer_end_0 = utils.load(olfactometer_reader.EndValveState, root/\"Olfactometer0\")\n",
    "print(digital_input_data)\n",
    "\n",
    "# find initiation onsets\n",
    "initiating_events = digital_input_data['DIPort0'][digital_input_data['DIPort0'] == True]\n",
    "\n",
    "plt.figure()\n",
    "plt.step(digital_input_data.index, digital_input_data['DIPort0'] * 1, where='post', c='k')\n",
    "plt.scatter(initiating_events.index, initiating_events)\n",
    "plt.plot(video_data.index, np.ones((len(video_data.index), 1)) + 0.5)\n",
    "\n",
    "print(np.ones((1, 200)).shape)"
   ]
  },
  {
   "cell_type": "code",
   "execution_count": 18,
   "metadata": {},
   "outputs": [
    {
     "name": "stdout",
     "output_type": "stream",
     "text": [
      "1904-01-01 00:08:32.449728\n",
      "                            hw_counter  hw_timestamp  _frame  \\\n",
      "Time                                                           \n",
      "1904-01-01 00:07:49.915488        8394  482034142920       0   \n",
      "1904-01-01 00:07:52.239584        8395  482067473752       1   \n",
      "1904-01-01 00:07:52.256224        8396  482100806384       2   \n",
      "1904-01-01 00:07:52.272864        8397  482134136808       3   \n",
      "1904-01-01 00:07:52.289536        8398  482167468960       4   \n",
      "...                                ...           ...     ...   \n",
      "1904-01-01 00:08:30.921408       10716  559430218728    2322   \n",
      "1904-01-01 00:08:30.938080       10717  559463550400    2323   \n",
      "1904-01-01 00:08:30.954720       10718  559496881936    2324   \n",
      "1904-01-01 00:08:30.971392       10719  559530214384    2325   \n",
      "1904-01-01 00:08:30.988096       10720  559563545424    2326   \n",
      "\n",
      "                                                                        _path  \\\n",
      "Time                                                                            \n",
      "1904-01-01 00:07:49.915488  C:\\Users\\erski\\source\\repos\\swc\\hypnose\\exampl...   \n",
      "1904-01-01 00:07:52.239584  C:\\Users\\erski\\source\\repos\\swc\\hypnose\\exampl...   \n",
      "1904-01-01 00:07:52.256224  C:\\Users\\erski\\source\\repos\\swc\\hypnose\\exampl...   \n",
      "1904-01-01 00:07:52.272864  C:\\Users\\erski\\source\\repos\\swc\\hypnose\\exampl...   \n",
      "1904-01-01 00:07:52.289536  C:\\Users\\erski\\source\\repos\\swc\\hypnose\\exampl...   \n",
      "...                                                                       ...   \n",
      "1904-01-01 00:08:30.921408  C:\\Users\\erski\\source\\repos\\swc\\hypnose\\exampl...   \n",
      "1904-01-01 00:08:30.938080  C:\\Users\\erski\\source\\repos\\swc\\hypnose\\exampl...   \n",
      "1904-01-01 00:08:30.954720  C:\\Users\\erski\\source\\repos\\swc\\hypnose\\exampl...   \n",
      "1904-01-01 00:08:30.971392  C:\\Users\\erski\\source\\repos\\swc\\hypnose\\exampl...   \n",
      "1904-01-01 00:08:30.988096  C:\\Users\\erski\\source\\repos\\swc\\hypnose\\exampl...   \n",
      "\n",
      "                                         _epoch  \n",
      "Time                                             \n",
      "1904-01-01 00:07:49.915488  2025-01-24T15-37-50  \n",
      "1904-01-01 00:07:52.239584  2025-01-24T15-37-50  \n",
      "1904-01-01 00:07:52.256224  2025-01-24T15-37-50  \n",
      "1904-01-01 00:07:52.272864  2025-01-24T15-37-50  \n",
      "1904-01-01 00:07:52.289536  2025-01-24T15-37-50  \n",
      "...                                         ...  \n",
      "1904-01-01 00:08:30.921408  2025-01-24T15-37-50  \n",
      "1904-01-01 00:08:30.938080  2025-01-24T15-37-50  \n",
      "1904-01-01 00:08:30.954720  2025-01-24T15-37-50  \n",
      "1904-01-01 00:08:30.971392  2025-01-24T15-37-50  \n",
      "1904-01-01 00:08:30.988096  2025-01-24T15-37-50  \n",
      "\n",
      "[2327 rows x 5 columns]\n"
     ]
    },
    {
     "ename": "IndexError",
     "evalue": "index 0 is out of bounds for axis 0 with size 0",
     "output_type": "error",
     "traceback": [
      "\u001b[1;31m---------------------------------------------------------------------------\u001b[0m",
      "\u001b[1;31mIndexError\u001b[0m                                Traceback (most recent call last)",
      "Cell \u001b[1;32mIn[18], line 11\u001b[0m\n\u001b[0;32m      8\u001b[0m event_window \u001b[38;5;241m=\u001b[39m video_data[time_window[\u001b[38;5;241m0\u001b[39m] : time_window[\u001b[38;5;241m1\u001b[39m]]\n\u001b[0;32m      9\u001b[0m event_frames \u001b[38;5;241m=\u001b[39m [f \u001b[38;5;28;01mfor\u001b[39;00m f \u001b[38;5;129;01min\u001b[39;00m video\u001b[38;5;241m.\u001b[39mframes(event_window)]\n\u001b[1;32m---> 11\u001b[0m first_frame_index \u001b[38;5;241m=\u001b[39m \u001b[43mnp\u001b[49m\u001b[38;5;241;43m.\u001b[39;49m\u001b[43mwhere\u001b[49m\u001b[43m(\u001b[49m\u001b[43mevent_window\u001b[49m\u001b[38;5;241;43m.\u001b[39;49m\u001b[43mindex\u001b[49m\u001b[43m \u001b[49m\u001b[38;5;241;43m>\u001b[39;49m\u001b[38;5;241;43m=\u001b[39;49m\u001b[43m \u001b[49m\u001b[43minit_time\u001b[49m\u001b[43m)\u001b[49m\u001b[43m[\u001b[49m\u001b[38;5;241;43m0\u001b[39;49m\u001b[43m]\u001b[49m\u001b[43m[\u001b[49m\u001b[38;5;241;43m0\u001b[39;49m\u001b[43m]\u001b[49m\n\u001b[0;32m     12\u001b[0m first_frame \u001b[38;5;241m=\u001b[39m event_window\u001b[38;5;241m.\u001b[39miloc[first_frame_index]\n\u001b[0;32m     14\u001b[0m plt\u001b[38;5;241m.\u001b[39mimshow(event_frames[first_frame_index])\n",
      "\u001b[1;31mIndexError\u001b[0m: index 0 is out of bounds for axis 0 with size 0"
     ]
    }
   ],
   "source": [
    "# get video frames around intiating event\n",
    "window = 0.2 # time window in seconds\n",
    "init_time = initiating_events.index[4]\n",
    "print(init_time)\n",
    "time_window = (init_time - pd.Timedelta(seconds=window), init_time + pd.Timedelta(seconds=window))\n",
    "print(video_data)\n",
    "\n",
    "event_window = video_data[time_window[0] : time_window[1]]\n",
    "event_frames = [f for f in video.frames(event_window)]\n",
    "\n",
    "first_frame_index = np.where(event_window.index >= init_time)[0][0]\n",
    "first_frame = event_window.iloc[first_frame_index]\n",
    "\n",
    "plt.imshow(event_frames[first_frame_index])"
   ]
  },
  {
   "cell_type": "code",
   "execution_count": null,
   "metadata": {},
   "outputs": [],
   "source": [
    "# plot olfactometer state\n",
    "# plt.figure()\n",
    "# plt.xticks(rotation=90)\n",
    "# plt.step(olfactometer_valves_0.index, olfactometer_valves_0['Valve0'] * 1, where='post')\n",
    "# plt.step(olfactometer_valves_1.index, olfactometer_valves_1['Valve0'] * 1 - 1.2, where='post')\n",
    "# plt.step(olfactometer_end_0.index, olfactometer_end_0['EndValve0'] * 1 - 2.6, where='post')\n",
    "# plt.step(olfactometer_end_0.index, olfactometer_end_0['EndValve1'] * 1 - 3.8, where='post')\n",
    "# plt.step(olfactometer_valves_1.index, olfactometer_valves_1['Valve3'] * 1 - 5.0, where='post')\n",
    "\n",
    "# # plot initation nose poke, reward pokes\n",
    "# plt.step(digital_input_data.index, digital_input_data['DIPort0'] * 0.5 + 3.6, where='post', c='k')\n",
    "# plt.step(digital_input_data.index, digital_input_data['DIPort1'] * 0.5 + 3.0, where='post', c='b')\n",
    "# plt.step(digital_input_data.index, digital_input_data['DIPort2'] * 0.5 + 1.8, where='post', c='r')\n",
    "\n",
    "# # plot reward initiations\n",
    "# print(output_set)\n",
    "# plt.step(output_set.index, output_set[\"SupplyPort1\"] * 0.5 + 2.4, where='post', c='m')\n",
    "# plt.step(output_set.index, output_set[\"SupplyPort2\"] * 0.5 + 1.2, where='post', c='m')"
   ]
  },
  {
   "cell_type": "code",
   "execution_count": null,
   "metadata": {},
   "outputs": [],
   "source": []
  }
 ],
 "metadata": {
  "kernelspec": {
   "display_name": "Python 3",
   "language": "python",
   "name": "python3"
  },
  "language_info": {
   "codemirror_mode": {
    "name": "ipython",
    "version": 3
   },
   "file_extension": ".py",
   "mimetype": "text/x-python",
   "name": "python",
   "nbconvert_exporter": "python",
   "pygments_lexer": "ipython3",
   "version": "3.11.11"
  }
 },
 "nbformat": 4,
 "nbformat_minor": 2
}

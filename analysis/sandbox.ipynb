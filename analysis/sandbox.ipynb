{
 "cells": [
  {
   "cell_type": "code",
   "execution_count": 9,
   "metadata": {},
   "outputs": [],
   "source": [
    "import numpy as np\n",
    "from pathlib import Path\n",
    "import utils as utils\n",
    "import harp\n",
    "import matplotlib.pyplot as plt"
   ]
  },
  {
   "cell_type": "code",
   "execution_count": 10,
   "metadata": {},
   "outputs": [],
   "source": [
    "root = Path('C:/Users/neurogears/source/repos/swc/hypnose/example_data/2025-01-21T14-24-20/2025-01-21T14-24-20')"
   ]
  },
  {
   "cell_type": "code",
   "execution_count": 24,
   "metadata": {},
   "outputs": [
    {
     "name": "stdout",
     "output_type": "stream",
     "text": [
      "[DotMap(rewardCondition1=[[{'command': 'OdorA', 'rewarded': True}]], rewardCondition2=[[{'command': 'OdorE', 'rewarded': True}]], enableTrialIndicator=True, presentationTime=0.8, interCommand='Purge', interCommandTime=0.2, repeatCount=20, maximumTime=1.0, responseTime=99999.0, resetOnReward=True, interTrialInterval=0.0, name='OdourDiscrimination', defaultCommand='Default', enableRewardLocationIndicator=True)]\n"
     ]
    }
   ],
   "source": [
    "metadata_reader = utils.SessionData()\n",
    "session_settings = utils.load_json(metadata_reader, root/\"SessionSettings\")\n",
    "\n",
    "print(session_settings.iloc[0]['metadata'].sequences)"
   ]
  },
  {
   "cell_type": "code",
   "execution_count": 34,
   "metadata": {},
   "outputs": [
    {
     "name": "stdout",
     "output_type": "stream",
     "text": [
      "                               Valve0  Valve1  Valve2  Valve3\n",
      "Time                                                         \n",
      "1904-01-01 21:36:55.788480000   False   False   False   False\n",
      "1904-01-01 22:16:11.495488000   False   False   False   False\n",
      "1904-01-01 22:16:12.145504000   False   False   False   False\n",
      "1904-01-02 08:00:19.005504000   False   False   False   False\n",
      "1904-01-02 08:00:19.453504000   False   False   False   False\n",
      "1904-01-02 09:33:39.282496000    True   False   False   False\n",
      "1904-01-02 09:33:40.093504000   False   False   False   False\n",
      "1904-01-02 09:33:40.296480000   False   False   False   False\n",
      "1904-01-02 10:04:06.715488000    True   False   False   False\n",
      "1904-01-02 10:04:07.216480000   False   False   False   False\n",
      "1904-01-02 10:07:12.549504000    True   False   False   False\n",
      "1904-01-02 10:07:13.063488000   False   False   False   False\n",
      "1904-01-02 10:12:14.755488000   False   False   False   False\n",
      "1904-01-02 10:12:15.569504000   False   False   False   False\n",
      "1904-01-02 10:12:15.755488000   False   False   False   False\n",
      "1904-01-02 10:19:08.911488000   False   False   False   False\n",
      "1904-01-02 10:19:09.723488000   False   False   False   False\n",
      "1904-01-02 10:19:09.863488000   False   False   False   False\n",
      "1904-01-02 10:31:40.772480000   False   False   False   False\n",
      "1904-01-02 10:31:41.268480000   False   False   False   False\n",
      "1904-01-02 10:37:11.406496000    True   False   False   False\n",
      "1904-01-02 10:37:11.687488000   False   False   False   False\n",
      "1904-01-02 10:45:33.279488000   False   False   False   False\n",
      "1904-01-02 10:45:34.092480000   False   False   False   False\n",
      "1904-01-02 10:45:34.280512000   False   False   False   False\n",
      "1904-01-02 10:47:48.701504000   False   False   False   False\n",
      "1904-01-02 10:47:48.998496000   False   False   False   False\n",
      "1904-01-02 10:54:15.260480000    True   False   False   False\n",
      "1904-01-02 10:54:16.071488000   False   False   False   False\n",
      "1904-01-02 10:54:16.269504000   False   False   False   False\n",
      "1904-01-02 11:43:26.346496000   False   False   False   False\n",
      "1904-01-02 11:43:26.895488000   False   False   False   False\n",
      "1904-01-02 14:27:05.535487999    True   False   False   False\n",
      "1904-01-02 14:27:06.254496000   False   False   False   False\n",
      "1904-01-02 14:31:13.294496000    True   False   False   False\n",
      "1904-01-02 14:31:14.074496000   False   False   False   False\n",
      "1904-01-02 14:32:48.903488000   False   False   False   False\n",
      "1904-01-02 14:32:49.295488000   False   False   False   False\n"
     ]
    },
    {
     "data": {
      "text/plain": [
       "[<matplotlib.lines.Line2D at 0x14e46c86a90>]"
      ]
     },
     "execution_count": 34,
     "metadata": {},
     "output_type": "execute_result"
    },
    {
     "data": {
      "image/png": "[encoded data removed]",
      "text/plain": [
       "<Figure size 640x480 with 1 Axes>"
      ]
     },
     "metadata": {},
     "output_type": "display_data"
    }
   ],
   "source": [
    "behavior_reader = harp.create_reader('device_schemas/behavior.yml', epoch=harp.REFERENCE_EPOCH)\n",
    "olfactometer_reader = harp.create_reader('device_schemas/olfactometer.yml', epoch=harp.REFERENCE_EPOCH)\n",
    "\n",
    "digital_input_data = utils.load(behavior_reader.DigitalInputState, root/\"Behavior\")\n",
    "olfactometer_valves_0 = utils.load(olfactometer_reader.OdorValveState, root/\"Olfactometer0\")\n",
    "olfactometer_valves_1 = utils.load(olfactometer_reader.OdorValveState, root/\"Olfactometer1\")\n",
    "\n",
    "print(olfactometer_valves_0)\n",
    "\n",
    "plt.figure()\n",
    "plt.xticks(rotation=90)\n",
    "plt.step(olfactometer_valves_0.index, olfactometer_valves_0['Valve0'])"
   ]
  },
  {
   "cell_type": "code",
   "execution_count": null,
   "metadata": {},
   "outputs": [],
   "source": []
  }
 ],
 "metadata": {
  "kernelspec": {
   "display_name": "Python 3",
   "language": "python",
   "name": "python3"
  },
  "language_info": {
   "codemirror_mode": {
    "name": "ipython",
    "version": 3
   },
   "file_extension": ".py",
   "mimetype": "text/x-python",
   "name": "python",
   "nbconvert_exporter": "python",
   "pygments_lexer": "ipython3",
   "version": "3.11.11"
  }
 },
 "nbformat": 4,
 "nbformat_minor": 2
}

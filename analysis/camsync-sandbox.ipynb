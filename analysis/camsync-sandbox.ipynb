{
 "cells": [
  {
   "cell_type": "code",
   "execution_count": 10,
   "metadata": {},
   "outputs": [],
   "source": [
    "%matplotlib ipympl\n",
    "import numpy as np\n",
    "from pathlib import Path\n",
    "import utils as utils\n",
    "import harp\n",
    "import pandas as pd\n",
    "import matplotlib.pyplot as plt\n",
    "import aeon.io.video as video"
   ]
  },
  {
   "cell_type": "code",
   "execution_count": 11,
   "metadata": {},
   "outputs": [
    {
     "name": "stdout",
     "output_type": "stream",
     "text": [
      "[DotMap(rewardCondition1=[[{'command': 'OdorA', 'rewarded': True}]], rewardCondition2=[[{'command': 'OdorE', 'rewarded': True}]], enableTrialIndicator=True, presentationTime=0.8, interCommand='Purge', interCommandTime=0.2, repeatCount=20, maximumTime=1.0, responseTime=10.0, resetOnReward=True, interTrialInterval=0.0, name='OdourDiscrimination', defaultCommand='Default', enableRewardLocationIndicator=True)]\n"
     ]
    }
   ],
   "source": [
    "root = Path('C:/Users/neurogears/source/repos/swc/hypnose/example_data/2025-01-24T15-37-50') # manual poke dataset\n",
    "root = Path('C:/Users/neurogears/source/repos/swc/hypnose/example_data/2025-01-28T15-54-39') # manual poke dataset with correct (?) cam settings\n",
    "\n",
    "metadata_reader = utils.SessionData()\n",
    "session_settings = utils.load_json(metadata_reader, root/\"SessionSettings\")\n",
    "print(session_settings.iloc[0]['metadata'].sequences)"
   ]
  },
  {
   "cell_type": "code",
   "execution_count": 12,
   "metadata": {},
   "outputs": [
    {
     "name": "stdout",
     "output_type": "stream",
     "text": [
      "                            FrameAcquired\n",
      "Time                                     \n",
      "1904-01-01 00:18:07.769600           True\n",
      "1904-01-01 00:18:07.789568           True\n",
      "1904-01-01 00:18:07.809568           True\n",
      "1904-01-01 00:18:07.829568           True\n",
      "1904-01-01 00:18:07.849568           True\n",
      "...                                   ...\n",
      "1904-01-01 00:19:40.230080           True\n",
      "1904-01-01 00:19:40.250080           True\n",
      "1904-01-01 00:19:40.270080           True\n",
      "1904-01-01 00:19:40.290080           True\n",
      "1904-01-01 00:19:40.310080           True\n",
      "\n",
      "[4628 rows x 1 columns]\n",
      "                            hw_counter   hw_timestamp  _frame  \\\n",
      "Time                                                            \n",
      "1904-01-01 00:18:03.459488        1514  1102666724896       0   \n",
      "1904-01-01 00:18:07.769600        1515  1102686725160       1   \n",
      "1904-01-01 00:18:07.789568        1516  1102706725424       2   \n",
      "1904-01-01 00:18:07.809568        1517  1102726724104       3   \n",
      "1904-01-01 00:18:07.829568        1518  1102746724312       4   \n",
      "...                                ...            ...     ...   \n",
      "1904-01-01 00:19:40.210080        6137  1195125935424    4623   \n",
      "1904-01-01 00:19:40.230080        6138  1195145934904    4624   \n",
      "1904-01-01 00:19:40.250080        6139  1195165934144    4625   \n",
      "1904-01-01 00:19:40.270080        6140  1195185934384    4626   \n",
      "1904-01-01 00:19:40.290080        6141  1195205934424    4627   \n",
      "\n",
      "                                                                        _path  \\\n",
      "Time                                                                            \n",
      "1904-01-01 00:18:03.459488  C:\\Users\\neurogears\\source\\repos\\swc\\hypnose\\e...   \n",
      "1904-01-01 00:18:07.769600  C:\\Users\\neurogears\\source\\repos\\swc\\hypnose\\e...   \n",
      "1904-01-01 00:18:07.789568  C:\\Users\\neurogears\\source\\repos\\swc\\hypnose\\e...   \n",
      "1904-01-01 00:18:07.809568  C:\\Users\\neurogears\\source\\repos\\swc\\hypnose\\e...   \n",
      "1904-01-01 00:18:07.829568  C:\\Users\\neurogears\\source\\repos\\swc\\hypnose\\e...   \n",
      "...                                                                       ...   \n",
      "1904-01-01 00:19:40.210080  C:\\Users\\neurogears\\source\\repos\\swc\\hypnose\\e...   \n",
      "1904-01-01 00:19:40.230080  C:\\Users\\neurogears\\source\\repos\\swc\\hypnose\\e...   \n",
      "1904-01-01 00:19:40.250080  C:\\Users\\neurogears\\source\\repos\\swc\\hypnose\\e...   \n",
      "1904-01-01 00:19:40.270080  C:\\Users\\neurogears\\source\\repos\\swc\\hypnose\\e...   \n",
      "1904-01-01 00:19:40.290080  C:\\Users\\neurogears\\source\\repos\\swc\\hypnose\\e...   \n",
      "\n",
      "                                         _epoch  \n",
      "Time                                             \n",
      "1904-01-01 00:18:03.459488  2025-01-28T15-54-39  \n",
      "1904-01-01 00:18:07.769600  2025-01-28T15-54-39  \n",
      "1904-01-01 00:18:07.789568  2025-01-28T15-54-39  \n",
      "1904-01-01 00:18:07.809568  2025-01-28T15-54-39  \n",
      "1904-01-01 00:18:07.829568  2025-01-28T15-54-39  \n",
      "...                                         ...  \n",
      "1904-01-01 00:19:40.210080  2025-01-28T15-54-39  \n",
      "1904-01-01 00:19:40.230080  2025-01-28T15-54-39  \n",
      "1904-01-01 00:19:40.250080  2025-01-28T15-54-39  \n",
      "1904-01-01 00:19:40.270080  2025-01-28T15-54-39  \n",
      "1904-01-01 00:19:40.290080  2025-01-28T15-54-39  \n",
      "\n",
      "[4628 rows x 5 columns]\n"
     ]
    }
   ],
   "source": [
    "behavior_reader = harp.create_reader('device_schemas/behavior.yml', epoch=harp.REFERENCE_EPOCH)\n",
    "video_reader = utils.Video()\n",
    "\n",
    "digital_input_data = utils.load(behavior_reader.DigitalInputState, root/\"Behavior\")\n",
    "camera_trigger = utils.load(behavior_reader.Camera0Frame, root/\"Behavior\")\n",
    "video_data = utils.load_video(video_reader, root/\"VideoData\")\n",
    "\n",
    "print(camera_trigger)\n",
    "print(video_data)"
   ]
  },
  {
   "cell_type": "code",
   "execution_count": null,
   "metadata": {},
   "outputs": [],
   "source": []
  }
 ],
 "metadata": {
  "kernelspec": {
   "display_name": "Python 3",
   "language": "python",
   "name": "python3"
  },
  "language_info": {
   "codemirror_mode": {
    "name": "ipython",
    "version": 3
   },
   "file_extension": ".py",
   "mimetype": "text/x-python",
   "name": "python",
   "nbconvert_exporter": "python",
   "pygments_lexer": "ipython3",
   "version": "3.11.11"
  }
 },
 "nbformat": 4,
 "nbformat_minor": 2
}

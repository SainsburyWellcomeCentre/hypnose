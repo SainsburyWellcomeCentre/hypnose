{
 "cells": [
  {
   "cell_type": "code",
   "execution_count": 2,
   "metadata": {},
   "outputs": [],
   "source": [
    "%matplotlib ipympl\n",
    "import numpy as np\n",
    "from pathlib import Path\n",
    "import utils as utils\n",
    "import harp\n",
    "import pandas as pd\n",
    "import matplotlib.pyplot as plt\n",
    "import aeon.io.video as video"
   ]
  },
  {
   "cell_type": "code",
   "execution_count": 5,
   "metadata": {},
   "outputs": [
    {
     "name": "stdout",
     "output_type": "stream",
     "text": [
      "[DotMap(rewardCondition1=[[{'command': 'OdorA', 'rewarded': True}]], rewardCondition2=[[{'command': 'OdorE', 'rewarded': True}]], enableTrialIndicator=True, presentationTime=0.8, interCommand='Purge', interCommandTime=0.2, repeatCount=20, maximumTime=1.0, responseTime=10.0, resetOnReward=True, interTrialInterval=0.0, name='OdourDiscrimination', defaultCommand='Default', enableRewardLocationIndicator=True)]\n"
     ]
    }
   ],
   "source": [
    "root = Path('C:/Users/neurogears/source/repos/swc/hypnose/example_data/2025-01-24T15-37-50') # manual poke dataset\n",
    "metadata_reader = utils.SessionData()\n",
    "session_settings = utils.load_json(metadata_reader, root/\"SessionSettings\")\n",
    "print(session_settings.iloc[0]['metadata'].sequences)"
   ]
  },
  {
   "cell_type": "code",
   "execution_count": 9,
   "metadata": {},
   "outputs": [
    {
     "name": "stdout",
     "output_type": "stream",
     "text": [
      "                            FrameAcquired\n",
      "Time                                     \n",
      "1904-01-01 00:07:52.239584           True\n",
      "1904-01-01 00:07:52.256224           True\n",
      "1904-01-01 00:07:52.272864           True\n",
      "1904-01-01 00:07:52.289536           True\n",
      "1904-01-01 00:07:52.306208           True\n",
      "...                                   ...\n",
      "1904-01-01 00:09:09.703264           True\n",
      "1904-01-01 00:09:09.719936           True\n",
      "1904-01-01 00:09:09.736608           True\n",
      "1904-01-01 00:09:09.753280           True\n",
      "1904-01-01 00:09:09.769952           True\n",
      "\n",
      "[4653 rows x 1 columns]\n",
      "                            hw_counter  hw_timestamp  _frame  \\\n",
      "Time                                                           \n",
      "1904-01-01 00:07:49.915488        8394  482034142920       0   \n",
      "1904-01-01 00:07:52.239584        8395  482067473752       1   \n",
      "1904-01-01 00:07:52.256224        8396  482100806384       2   \n",
      "1904-01-01 00:07:52.272864        8397  482134136808       3   \n",
      "1904-01-01 00:07:52.289536        8398  482167468960       4   \n",
      "...                                ...           ...     ...   \n",
      "1904-01-01 00:08:30.921408       10716  559430218728    2322   \n",
      "1904-01-01 00:08:30.938080       10717  559463550400    2323   \n",
      "1904-01-01 00:08:30.954720       10718  559496881936    2324   \n",
      "1904-01-01 00:08:30.971392       10719  559530214384    2325   \n",
      "1904-01-01 00:08:30.988096       10720  559563545424    2326   \n",
      "\n",
      "                                                                        _path  \\\n",
      "Time                                                                            \n",
      "1904-01-01 00:07:49.915488  C:\\Users\\neurogears\\source\\repos\\swc\\hypnose\\e...   \n",
      "1904-01-01 00:07:52.239584  C:\\Users\\neurogears\\source\\repos\\swc\\hypnose\\e...   \n",
      "1904-01-01 00:07:52.256224  C:\\Users\\neurogears\\source\\repos\\swc\\hypnose\\e...   \n",
      "1904-01-01 00:07:52.272864  C:\\Users\\neurogears\\source\\repos\\swc\\hypnose\\e...   \n",
      "1904-01-01 00:07:52.289536  C:\\Users\\neurogears\\source\\repos\\swc\\hypnose\\e...   \n",
      "...                                                                       ...   \n",
      "1904-01-01 00:08:30.921408  C:\\Users\\neurogears\\source\\repos\\swc\\hypnose\\e...   \n",
      "1904-01-01 00:08:30.938080  C:\\Users\\neurogears\\source\\repos\\swc\\hypnose\\e...   \n",
      "1904-01-01 00:08:30.954720  C:\\Users\\neurogears\\source\\repos\\swc\\hypnose\\e...   \n",
      "1904-01-01 00:08:30.971392  C:\\Users\\neurogears\\source\\repos\\swc\\hypnose\\e...   \n",
      "1904-01-01 00:08:30.988096  C:\\Users\\neurogears\\source\\repos\\swc\\hypnose\\e...   \n",
      "\n",
      "                                         _epoch  \n",
      "Time                                             \n",
      "1904-01-01 00:07:49.915488  2025-01-24T15-37-50  \n",
      "1904-01-01 00:07:52.239584  2025-01-24T15-37-50  \n",
      "1904-01-01 00:07:52.256224  2025-01-24T15-37-50  \n",
      "1904-01-01 00:07:52.272864  2025-01-24T15-37-50  \n",
      "1904-01-01 00:07:52.289536  2025-01-24T15-37-50  \n",
      "...                                         ...  \n",
      "1904-01-01 00:08:30.921408  2025-01-24T15-37-50  \n",
      "1904-01-01 00:08:30.938080  2025-01-24T15-37-50  \n",
      "1904-01-01 00:08:30.954720  2025-01-24T15-37-50  \n",
      "1904-01-01 00:08:30.971392  2025-01-24T15-37-50  \n",
      "1904-01-01 00:08:30.988096  2025-01-24T15-37-50  \n",
      "\n",
      "[2327 rows x 5 columns]\n"
     ]
    }
   ],
   "source": [
    "behavior_reader = harp.create_reader('device_schemas/behavior.yml', epoch=harp.REFERENCE_EPOCH)\n",
    "video_reader = utils.Video()\n",
    "\n",
    "digital_input_data = utils.load(behavior_reader.DigitalInputState, root/\"Behavior\")\n",
    "camera_trigger = utils.load(behavior_reader.Camera0Frame, root/\"Behavior\")\n",
    "video_data = utils.load_video(video_reader, root/\"VideoData\")\n",
    "\n",
    "print(camera_trigger)\n",
    "print(video_data)"
   ]
  },
  {
   "cell_type": "code",
   "execution_count": null,
   "metadata": {},
   "outputs": [],
   "source": []
  }
 ],
 "metadata": {
  "kernelspec": {
   "display_name": "Python 3",
   "language": "python",
   "name": "python3"
  },
  "language_info": {
   "codemirror_mode": {
    "name": "ipython",
    "version": 3
   },
   "file_extension": ".py",
   "mimetype": "text/x-python",
   "name": "python",
   "nbconvert_exporter": "python",
   "pygments_lexer": "ipython3",
   "version": "3.11.11"
  }
 },
 "nbformat": 4,
 "nbformat_minor": 2
}

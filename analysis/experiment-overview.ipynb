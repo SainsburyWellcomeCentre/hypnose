{
 "cells": [
  {
   "cell_type": "code",
   "execution_count": 36,
   "metadata": {},
   "outputs": [],
   "source": [
    "%matplotlib ipympl\n",
    "import numpy as np\n",
    "from pathlib import Path\n",
    "import utils as utils\n",
    "import harp\n",
    "import pandas as pd\n",
    "import matplotlib.pyplot as plt\n",
    "import aeon.io.video as video"
   ]
  },
  {
   "cell_type": "code",
   "execution_count": 37,
   "metadata": {},
   "outputs": [
    {
     "name": "stdout",
     "output_type": "stream",
     "text": [
      "[DotMap(rewardCondition1=[[{'command': 'OdorA', 'rewarded': True}]], rewardCondition2=[[{'command': 'OdorE', 'rewarded': True}]], enableTrialIndicator=True, presentationTime=0.8, interCommand='Purge', interCommandTime=0.2, repeatCount=20, maximumTime=1.0, responseTime=99999.0, resetOnReward=True, interTrialInterval=0.0, name='FreeRun', defaultCommand='Default', enableRewardLocationIndicator=True)]\n"
     ]
    }
   ],
   "source": [
    "root = Path('C:/Users/neurogears/source/repos/swc/hypnose/example_data/2025-01-29T14-50-54/2025-01-29T14-50-54')\n",
    "\n",
    "metadata_reader = utils.SessionData()\n",
    "session_settings = utils.load_json(metadata_reader, root/\"SessionSettings\")\n",
    "print(session_settings.iloc[0]['metadata'].sequences)"
   ]
  },
  {
   "cell_type": "code",
   "execution_count": 39,
   "metadata": {},
   "outputs": [
    {
     "name": "stdout",
     "output_type": "stream",
     "text": [
      "                            AnalogInput0  Encoder  AnalogInput1\n",
      "Time                                                           \n",
      "1904-01-01 21:17:57.438976             6        0             4\n",
      "1904-01-01 21:17:57.440000             5        0             4\n",
      "1904-01-01 21:17:57.440992             6        0             3\n",
      "1904-01-01 21:17:57.441984             4        0             4\n",
      "1904-01-01 21:17:57.442976             4        0             3\n",
      "...                                  ...      ...           ...\n",
      "1904-01-02 09:45:38.794976             3        0             4\n",
      "1904-01-02 09:45:38.796000             3        0             6\n",
      "1904-01-02 09:45:38.796992             5        0             4\n",
      "1904-01-02 09:45:38.797984             4        0             5\n",
      "1904-01-02 09:45:38.798976             5        0             3\n",
      "\n",
      "[44861360 rows x 3 columns]\n"
     ]
    }
   ],
   "source": [
    "# Load relevant data streams\n",
    "behavior_reader = harp.create_reader('device_schemas/behavior.yml', epoch=harp.REFERENCE_EPOCH)\n",
    "olfactometer_reader = harp.create_reader('device_schemas/olfactometer.yml', epoch=harp.REFERENCE_EPOCH)\n",
    "video_reader = utils.Video()\n",
    "video_data = utils.load_video(video_reader, root/\"VideoData\")\n",
    "\n",
    "digital_input_data = utils.load(behavior_reader.DigitalInputState, root/\"Behavior\")\n",
    "output_set = utils.load(behavior_reader.OutputSet, root/\"Behavior\")\n",
    "output_clear = utils.load(behavior_reader.OutputClear, root/\"Behavior\")\n",
    "olfactometer_valves_0 = utils.load(olfactometer_reader.OdorValveState, root/\"Olfactometer0\")\n",
    "olfactometer_valves_1 = utils.load(olfactometer_reader.OdorValveState, root/\"Olfactometer1\")\n",
    "olfactometer_end_0 = utils.load(olfactometer_reader.EndValveState, root/\"Olfactometer0\")\n",
    "analog_data = utils.load(behavior_reader.AnalogData, root/\"Behavior\")\n",
    "print(analog_data)"
   ]
  },
  {
   "cell_type": "code",
   "execution_count": 44,
   "metadata": {},
   "outputs": [
    {
     "data": {
      "text/plain": [
       "[<matplotlib.lines.Line2D at 0x260b40f5490>]"
      ]
     },
     "execution_count": 44,
     "metadata": {},
     "output_type": "execute_result"
    },
    {
     "data": {
      "application/vnd.jupyter.widget-view+json": {
       "model_id": "6ccc8d32fbee46e8bb4dc47d615fafca",
       "version_major": 2,
       "version_minor": 0
      },
      "image/png": "[encoded data removed]",
      "text/html": [
       "\n",
       "            <div style=\"display: inline-block;\">\n",
       "                <div class=\"jupyter-widgets widget-label\" style=\"text-align: center;\">\n",
       "                    Figure\n",
       "                </div>\n",
       "                <img src='data:image/png;base64,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' width=640.0/>\n",
       "            </div>\n",
       "        "
      ],
      "text/plain": [
       "Canvas(toolbar=Toolbar(toolitems=[('Home', 'Reset original view', 'home', 'home'), ('Back', 'Back to previous …"
      ]
     },
     "metadata": {},
     "output_type": "display_data"
    }
   ],
   "source": [
    "# find initiation onsets, reward pokes\n",
    "initiating_events = digital_input_data['DIPort0'][digital_input_data['DIPort0'] == True]\n",
    "\n",
    "plt.figure()\n",
    "plt.step(digital_input_data.index, digital_input_data['DIPort0'] * 1, where='post', c='k')\n",
    "\n",
    "plt.step(output_set.index, output_set['DOPort1'] * 1 - 1.2, where='post', c='r')\n",
    "plt.step(output_clear.index, output_clear['DOPort1'] * 0.5 - 1.2, where='post', c='r')\n",
    "plt.step(digital_input_data.index, digital_input_data['DIPort1'] * -0.1 - 1.22, where='post', c='k')\n",
    "\n",
    "plt.step(output_set.index, output_set['DOPort2'] * 1 - 2.4, where='post', c='b')\n",
    "plt.step(output_clear.index, output_clear['DOPort2'] * 0.5 - 2.4, where='post', c='b')\n",
    "plt.step(digital_input_data.index, digital_input_data['DIPort2'] * -0.1 - 2.42, where='post', c='k')"
   ]
  },
  {
   "cell_type": "code",
   "execution_count": 61,
   "metadata": {},
   "outputs": [
    {
     "data": {
      "text/plain": [
       "<matplotlib.image.AxesImage at 0x26087a07310>"
      ]
     },
     "execution_count": 61,
     "metadata": {},
     "output_type": "execute_result"
    }
   ],
   "source": [
    "# look at final video frames\n",
    "tstamp = analog_data.index[-1]\n",
    "event_window = video_data[(tstamp - pd.Timedelta(seconds=1)) : tstamp]\n",
    "event_frames = [f for f in video.frames(event_window)]\n",
    "\n",
    "plt.figure()\n",
    "plt.imshow(event_frames[0])"
   ]
  },
  {
   "cell_type": "code",
   "execution_count": null,
   "metadata": {},
   "outputs": [],
   "source": []
  }
 ],
 "metadata": {
  "kernelspec": {
   "display_name": "Python 3",
   "language": "python",
   "name": "python3"
  },
  "language_info": {
   "codemirror_mode": {
    "name": "ipython",
    "version": 3
   },
   "file_extension": ".py",
   "mimetype": "text/x-python",
   "name": "python",
   "nbconvert_exporter": "python",
   "pygments_lexer": "ipython3",
   "version": "3.11.11"
  }
 },
 "nbformat": 4,
 "nbformat_minor": 2
}
